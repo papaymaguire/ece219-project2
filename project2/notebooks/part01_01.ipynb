{
  "nbformat": 4,
  "nbformat_minor": 0,
  "metadata": {
    "colab": {
      "provenance": [],
      "authorship_tag": "ABX9TyO4KBjPZ+P+DyTUgDX8BFbC",
      "include_colab_link": true
    },
    "kernelspec": {
      "name": "python3",
      "display_name": "Python 3"
    },
    "language_info": {
      "name": "python"
    }
  },
  "cells": [
    {
      "cell_type": "markdown",
      "metadata": {
        "id": "view-in-github",
        "colab_type": "text"
      },
      "source": [
        "<a href=\"https://colab.research.google.com/github/papaymaguire/ece219-project2/blob/main/project2/notebooks/part01_01.ipynb\" target=\"_parent\"><img src=\"https://colab.research.google.com/assets/colab-badge.svg\" alt=\"Open In Colab\"/></a>"
      ]
    },
    {
      "cell_type": "code",
      "execution_count": 5,
      "metadata": {
        "id": "z9sRy6yACcwN",
        "outputId": "57a3f789-504d-4422-957a-25bab400d507",
        "colab": {
          "base_uri": "https://localhost:8080/"
        }
      },
      "outputs": [
        {
          "output_type": "execute_result",
          "data": {
            "text/plain": [
              "(7882, 23522)"
            ]
          },
          "metadata": {},
          "execution_count": 5
        }
      ],
      "source": [
        "from sklearn.datasets import fetch_20newsgroups\n",
        "from sklearn.feature_extraction.text import TfidfVectorizer\n",
        "class_1_cats = [\"comp.graphics\", \"comp.os.ms-windows.misc\", \"comp.sys.ibm.pc.hardware\", \"comp.sys.mac.hardware\"]\n",
        "class_2_cats = [\"rec.autos\", \"rec.motorcycles\", \"rec.sport.baseball\", \"rec.sport.hockey\"]\n",
        "newsgroups_train = fetch_20newsgroups(subset='all', remove=('headers', 'footers'), categories=class_1_cats + class_2_cats)\n",
        "vectorizer = TfidfVectorizer(min_df=3, stop_words=\"english\")\n",
        "X_tfidf = vectorizer.fit_transform(newsgroups_train.data)\n",
        "X_tfidf.shape"
      ]
    }
  ]
}